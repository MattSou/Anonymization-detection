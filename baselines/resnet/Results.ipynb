{
 "cells": [
  {
   "cell_type": "code",
   "execution_count": null,
   "metadata": {},
   "outputs": [],
   "source": [
    "import torch\n",
    "import torchvision\n",
    "from torchvision import transforms\n",
    "from torch import nn, optim\n",
    "\n",
    "import os\n",
    "import pandas as pd\n",
    "from torchvision.io import read_image\n",
    "\n",
    "from torch.utils.data import Dataset\n",
    "from PIL import Image\n",
    "\n",
    "import matplotlib.pyplot as plt\n",
    "import numpy as np\n",
    "import json\n",
    "\n",
    "from IPython.display import clear_output"
   ]
  },
  {
   "cell_type": "code",
   "execution_count": null,
   "metadata": {},
   "outputs": [],
   "source": [
    "def results_analysis(results, n_FP=20, n_FN=100):\n",
    "    false_positive = results.query('predicted == 1').query(\"label == 0\").sort_values('score', ascending=False).reset_index(drop=True)\n",
    "    false_negative = results.query('predicted == 0').query(\"label == 1\").sort_values('score', ascending=True).reset_index(drop=True)\n",
    "    for i, row in false_positive.iterrows():\n",
    "        if i>=n_FP:\n",
    "            break\n",
    "        img = Image.open(os.path.join('/home/msouda/Datasets',row['img_name']))\n",
    "        plt.imshow(img)\n",
    "        plt.title(f\"False positive - Score: {row['score']:.2f} - {row['img_name']}\")\n",
    "        plt.show()\n",
    "        \n",
    "    for i, row in false_negative.iterrows():\n",
    "        if i>=n_FN:\n",
    "            break\n",
    "        img = Image.open(os.path.join('/home/msouda/Datasets',row['img_name']))\n",
    "        plt.imshow(img)\n",
    "        plt.title(f\"False negative - Score: {row['score']:.2f} - {row['img_name']}\")\n",
    "        plt.show()\n",
    "        \n",
    "    fn_videos = (\n",
    "        false_negative.assign(\n",
    "            video=false_negative['img_name'].apply(lambda x: x.split('/')[1])\n",
    "        )\n",
    "        .groupby('video')\n",
    "        .count()\n",
    "        .sort_values('img_name', ascending=False)[['img_name']]\n",
    "        .rename(columns={'img_name': 'count'})\n",
    "    )\n",
    "    results = results.assign(video = results['img_name'].apply(lambda x: x.split('/')[1]))\n",
    "    tmp = results.query(\"video in @fn_videos.index\").query(\"label == 1\").groupby('video').count().sort_values('img_name', ascending=False)[['img_name']].rename(columns={'img_name': 'count'})\n",
    "    #print(fn_videos.shape[0])\n",
    "    #print(tmp.shape[0])\n",
    "    fn_videos = fn_videos.merge(\n",
    "        tmp,\n",
    "        how='left',\n",
    "        left_index=True,\n",
    "        right_index=True,\n",
    "        suffixes=('_fn', '_p')\n",
    "    ).fillna(0).sort_values('count_p', ascending=True)\n",
    "    tmp = results.query(\"video in @fn_videos.index\").query(\"predicted == 1\").query(\"label == 1\").groupby('video').count().sort_values('img_name', ascending=False)[['img_name']].rename(columns={'img_name': 'count_tp'})\n",
    "    fn_videos = fn_videos.merge(\n",
    "        tmp,\n",
    "        how='left',\n",
    "        left_index=True,\n",
    "        right_index=True,\n",
    "    ).fillna(0)\n",
    "\n",
    "\n",
    "    fp_videos = (\n",
    "        false_positive.assign(\n",
    "            video=false_positive['img_name'].apply(lambda x: x.split('/')[1])\n",
    "        )\n",
    "        .groupby('video')\n",
    "        .count()\n",
    "        .sort_values('img_name', ascending=False)[['img_name']]\n",
    "        .rename(columns={'img_name': 'count'})\n",
    "    )\n",
    "    tmp = results.query(\"video in @fp_videos.index\").query(\"label == 1\").groupby('video').count().sort_values('img_name', ascending=False)[['img_name']].rename(columns={'img_name': 'count'})\n",
    "    #print(fn_videos.shape[0])\n",
    "    #print(tmp.shape[0])\n",
    "    fp_videos = fp_videos.merge(\n",
    "        tmp,\n",
    "        how='left',\n",
    "        left_index=True,\n",
    "        right_index=True,\n",
    "        suffixes=('_fp', '_p')\n",
    "    ).fillna(0).sort_values('count_p', ascending=True)\n",
    "    return fp_videos, fn_videos, false_positive, false_negative\n",
    "\n"
   ]
  },
  {
   "cell_type": "code",
   "execution_count": null,
   "metadata": {},
   "outputs": [],
   "source": [
    "def count_video(df):\n",
    "    df = df.assign(video = df['img_name'].apply(lambda x: x.split('/')[1])).groupby('video').count().sort_values('img_name', ascending=False)[['img_name']].rename(columns={'img_name': 'count'})\n",
    "    return df"
   ]
  },
  {
   "cell_type": "code",
   "execution_count": null,
   "metadata": {},
   "outputs": [],
   "source": [
    "def results_df_video(results, n_FP=20, n_FN=100):\n",
    "    videos = results.assign(video = results['img_name'].apply(lambda x: x.split('/')[1])).groupby('video').count().sort_values('img_name', ascending=False)[['img_name']].rename(columns={'img_name': 'count_tot'})\n",
    "    false_positive = results.query('predicted == 1').query(\"label == 0\").sort_values('score', ascending=False).reset_index(drop=True)\n",
    "    false_negative = results.query('predicted == 0').query(\"label == 1\").sort_values('score', ascending=True).reset_index(drop=True)\n",
    "    true_positive = results.query('predicted == 1').query(\"label == 1\").sort_values('score', ascending=False).reset_index(drop=True)\n",
    "    true_negative = results.query('predicted == 0').query(\"label == 0\").sort_values('score', ascending=True).reset_index(drop=True)\n",
    "\n",
    "    videos = videos.merge(\n",
    "        count_video(false_positive).rename(columns={'count': 'count_fp'}),\n",
    "        how='left',\n",
    "        left_index=True,\n",
    "        right_index=True,\n",
    "    ).fillna(0)\n",
    "    videos = videos.merge(\n",
    "        count_video(false_negative).rename(columns={'count': 'count_fn'}),\n",
    "        how='left',\n",
    "        left_index=True,\n",
    "        right_index=True,\n",
    "    ).fillna(0)\n",
    "    videos = videos.merge(\n",
    "        count_video(true_positive).rename(columns={'count': 'count_tp'}),\n",
    "        how='left',\n",
    "        left_index=True,\n",
    "        right_index=True,\n",
    "    ).fillna(0)\n",
    "    videos = videos.merge(\n",
    "        count_video(true_negative).rename(columns={'count': 'count_tn'}),\n",
    "        how='left',\n",
    "        left_index=True,\n",
    "        right_index=True,\n",
    "    ).fillna(0)\n",
    "    return videos\n",
    "    \n"
   ]
  },
  {
   "cell_type": "code",
   "execution_count": null,
   "metadata": {},
   "outputs": [],
   "source": [
    "train_results = pd.read_csv('/home/msouda/Workspace/results/dino_anonym_50_final.pth_train_results.csv').rename(columns={'keyframe_id': 'img_name'}).drop(columns=['Unnamed: 0'])\n",
    "train_results"
   ]
  },
  {
   "cell_type": "code",
   "execution_count": null,
   "metadata": {},
   "outputs": [],
   "source": [
    "test_results = pd.read_csv('/home/msouda/Workspace/results/dino_anonym_50_final.pth_test_results.csv').rename(columns={'keyframe_id': 'img_name'}).drop(columns=['Unnamed: 0'])\n",
    "test_results"
   ]
  },
  {
   "cell_type": "code",
   "execution_count": null,
   "metadata": {},
   "outputs": [],
   "source": [
    "annotations = pd.read_csv('/home/msouda/Datasets/true_anonymized/annotations.csv', header=None, names=['img_name', 'class'])\n",
    "annotations"
   ]
  },
  {
   "cell_type": "code",
   "execution_count": null,
   "metadata": {},
   "outputs": [],
   "source": [
    "train_results = train_results.merge(\n",
    "    annotations.assign(img_name = annotations['img_name'].apply(lambda x: 'true_anonymized/'+x)),\n",
    "    how='left',\n",
    "    on='img_name',\n",
    "\n",
    ")\n",
    "train_results"
   ]
  },
  {
   "cell_type": "code",
   "execution_count": null,
   "metadata": {},
   "outputs": [],
   "source": [
    "test_results = test_results.merge(\n",
    "    annotations.assign(img_name = annotations['img_name'].apply(lambda x: 'true_anonymized/'+x)),\n",
    "    how='left',\n",
    "    on='img_name',\n",
    "\n",
    ")\n",
    "test_results"
   ]
  },
  {
   "cell_type": "code",
   "execution_count": null,
   "metadata": {},
   "outputs": [],
   "source": [
    "train_results = train_results.drop('label', axis=1).rename(columns={'class': 'label'})"
   ]
  },
  {
   "cell_type": "code",
   "execution_count": null,
   "metadata": {},
   "outputs": [],
   "source": [
    "test_results = test_results.drop('label', axis=1).rename(columns={'class': 'label'})"
   ]
  },
  {
   "cell_type": "code",
   "execution_count": null,
   "metadata": {},
   "outputs": [],
   "source": [
    "false_positive = test_results.query('predicted == 1').query(\"label == 0\").sort_values('score', ascending=False).reset_index(drop=True)\n",
    "false_negative = test_results.query('predicted == 0').query(\"label == 1\").sort_values('score', ascending=True).reset_index(drop=True)\n",
    "true_positive = test_results.query('predicted == 1').query(\"label == 1\").sort_values('score', ascending=False).reset_index(drop=True)\n",
    "true_negative = test_results.query('predicted == 0').query(\"label == 0\").sort_values('score', ascending=True).reset_index(drop=True)"
   ]
  },
  {
   "cell_type": "code",
   "execution_count": null,
   "metadata": {},
   "outputs": [],
   "source": [
    "print(f'Accuracy = {(true_positive.shape[0]+true_negative.shape[0])/test_results.shape[0]:.2f}')\n",
    "print(f'Precision = {true_positive.shape[0]/(true_positive.shape[0]+false_positive.shape[0]):.2f}')\n",
    "print(f'Recall = {true_positive.shape[0]/(true_positive.shape[0]+false_negative.shape[0]):.2f}')\n",
    "print(f'F1 = {2*true_positive.shape[0]/(2*true_positive.shape[0]+false_positive.shape[0]+false_negative.shape[0]):.2f}')\n"
   ]
  },
  {
   "cell_type": "code",
   "execution_count": null,
   "metadata": {},
   "outputs": [],
   "source": [
    "fp_videos, fn_videos,fp,fn = results_analysis(test_results, n_FP=40, n_FN=0)\n",
    "fn_videos"
   ]
  },
  {
   "cell_type": "code",
   "execution_count": null,
   "metadata": {},
   "outputs": [],
   "source": [
    "tmp = fp.query('score<0.999').query('score>0.98').assign(video = fp['img_name'].apply(lambda x: x.split('/')[1])).sort_values(['video', 'img_name'])\n",
    "print(f'Absolute false positives: {tmp.shape[0]}')\n",
    "for i, row in tmp.iterrows():\n",
    "    img = Image.open(os.path.join('/home/msouda/Datasets',row['img_name']))\n",
    "    plt.imshow(img)\n",
    "    plt.title(f\"False positive - Score: {row['score']:.2f} - {row['img_name']}\")\n",
    "    plt.show()\n",
    "        "
   ]
  },
  {
   "cell_type": "code",
   "execution_count": null,
   "metadata": {},
   "outputs": [],
   "source": [
    "fn"
   ]
  },
  {
   "cell_type": "code",
   "execution_count": null,
   "metadata": {},
   "outputs": [],
   "source": [
    "tmp = fn.query('score<0.001').assign(video = fn['img_name'].apply(lambda x: x.split('/')[1])).sort_values(['video', 'img_name'])\n",
    "print(f'Absolute false negatives: {tmp.shape[0]}')\n",
    "for i, row in tmp.iterrows():\n",
    "    img = Image.open(os.path.join('/home/msouda/Datasets',row['img_name']))\n",
    "    plt.imshow(img)\n",
    "    plt.title(f\"False negatives - Score: {row['score']:.2f} - {row['img_name']}\")\n",
    "    plt.show()\n",
    "        "
   ]
  },
  {
   "cell_type": "code",
   "execution_count": null,
   "metadata": {},
   "outputs": [],
   "source": [
    "fp_videos.sort_values(\"count_fp\", ascending=False).head(10)"
   ]
  },
  {
   "cell_type": "code",
   "execution_count": null,
   "metadata": {},
   "outputs": [],
   "source": [
    "tmp.query(\"sec == 's2539'\")"
   ]
  },
  {
   "cell_type": "code",
   "execution_count": null,
   "metadata": {},
   "outputs": [],
   "source": [
    "tmp = fp.assign(video = fp['img_name'].apply(lambda x: x.split('/')[1])).query(\"video == 'fr2_20100506T203819'\").sort_values('score', ascending=False).query('score>0.99')\n",
    "if len(tmp)>0:\n",
    "    tmp = tmp.assign(sec = fp['img_name'].apply(lambda x: x.split('/')[2].split('_')[2].split('.')[0])).sort_values('sec', ascending=True).reset_index(drop=True)\n",
    "N = len(tmp)\n",
    "treated = []\n",
    "i = 0\n",
    "print(f\"{N} images\")"
   ]
  },
  {
   "cell_type": "code",
   "execution_count": null,
   "metadata": {},
   "outputs": [],
   "source": [
    "print(tmp.loc[i])\n",
    "treated.append(tmp['img_name'][i])\n",
    "i+=1"
   ]
  },
  {
   "cell_type": "code",
   "execution_count": null,
   "metadata": {},
   "outputs": [],
   "source": [
    "train_results[train_results[\"img_name\"].str.contains('c+__20100205T222818')]"
   ]
  },
  {
   "cell_type": "code",
   "execution_count": null,
   "metadata": {},
   "outputs": [],
   "source": [
    "train_results[train_results.assign(img_name = train_results[\"img_name\"].apply(lambda x: x[16:]))[\"img_name\"].str.startswith('c+__20100205T222818')]#.query(\"label == 1\")"
   ]
  },
  {
   "cell_type": "code",
   "execution_count": null,
   "metadata": {},
   "outputs": [],
   "source": [
    "print(false_negative['score'].describe())\n",
    "false_negative['score'].hist(bins=20)"
   ]
  },
  {
   "cell_type": "code",
   "execution_count": null,
   "metadata": {},
   "outputs": [],
   "source": [
    "print(false_positive['score'].describe())\n",
    "false_positive['score'].hist(bins=20)"
   ]
  },
  {
   "cell_type": "code",
   "execution_count": null,
   "metadata": {},
   "outputs": [],
   "source": [
    "test_results = pd.read_csv('results_test_4.csv').rename(columns={'keyframe_id': 'img_name'})"
   ]
  },
  {
   "cell_type": "code",
   "execution_count": null,
   "metadata": {},
   "outputs": [],
   "source": [
    "fp_videos, fn_videos,fp,fn = results_analysis(test_results, n_FP=1000, n_FN=0)\n",
    "fn_videos"
   ]
  },
  {
   "cell_type": "code",
   "execution_count": null,
   "metadata": {},
   "outputs": [],
   "source": [
    "list_fp_videos = fp_videos.index.to_list()\n",
    "i=0"
   ]
  },
  {
   "cell_type": "code",
   "execution_count": null,
   "metadata": {},
   "outputs": [],
   "source": [
    "video = list_fp_videos[i]\n",
    "print(video)\n",
    "i+=1\n",
    "tmp = fp.assign(img_name = fp['img_name'].apply(lambda x: x[16:])).query(\"img_name.str.startswith(@video)\").sort_values('score', ascending=False)\n",
    "tmp = tmp.assign(second = tmp['img_name'].apply(lambda x: x.split('/')[1][4:].split('_')[1]))\n",
    "for j, row in tmp.iterrows():\n",
    "    img = Image.open(os.path.join('/home/msouda/Datasets/true_anonymized',row['img_name']))\n",
    "    plt.imshow(img)\n",
    "    plt.title(f\"False positive - Score: {row['score']:.2f} - {row['img_name']}\")\n",
    "    plt.show()\n",
    "tmp"
   ]
  },
  {
   "cell_type": "code",
   "execution_count": null,
   "metadata": {},
   "outputs": [],
   "source": [
    "list_fn_videos = fn_videos.index.to_list()\n",
    "i=0"
   ]
  },
  {
   "cell_type": "code",
   "execution_count": null,
   "metadata": {},
   "outputs": [],
   "source": [
    "video = list_fn_videos[i]\n",
    "print(video)\n",
    "i+=1\n",
    "tmp = fn.assign(img_name = fn['img_name'].apply(lambda x: x[16:])).query(\"img_name.str.startswith(@video)\").sort_values('score', ascending=True)\n",
    "tmp = tmp.assign(second = tmp['img_name'].apply(lambda x: x.split('/')[1][4:].split('_')[1]))\n",
    "for j, row in tmp.iterrows():\n",
    "    img = Image.open(os.path.join('/home/msouda/Datasets/true_anonymized',row['img_name']))\n",
    "    plt.imshow(img)\n",
    "    plt.title(f\"False negative - Score: {row['score']:.2f} - {row['img_name']}\")\n",
    "    plt.show()\n",
    "tmp"
   ]
  },
  {
   "cell_type": "code",
   "execution_count": null,
   "metadata": {},
   "outputs": [],
   "source": [
    "tmp"
   ]
  },
  {
   "cell_type": "code",
   "execution_count": null,
   "metadata": {},
   "outputs": [],
   "source": [
    "print(fn['score'].describe())\n",
    "fn['score'].hist(bins=20)"
   ]
  },
  {
   "cell_type": "code",
   "execution_count": null,
   "metadata": {},
   "outputs": [],
   "source": [
    "print(fp['score'].describe())\n",
    "fp['score'].hist(bins=20)"
   ]
  },
  {
   "cell_type": "code",
   "execution_count": null,
   "metadata": {},
   "outputs": [],
   "source": [
    "print(test_results['score'].describe())\n",
    "test_results['score'].hist(bins=50)"
   ]
  },
  {
   "cell_type": "code",
   "execution_count": null,
   "metadata": {},
   "outputs": [],
   "source": [
    "test_results[test_results['score'] >0.99]"
   ]
  },
  {
   "cell_type": "code",
   "execution_count": null,
   "metadata": {},
   "outputs": [],
   "source": [
    "def trans(x,epsilon,n):\n",
    "    if x == 0:\n",
    "        return 0\n",
    "    elif x == 1:\n",
    "        return 1\n",
    "    else :\n",
    "        return np.exp(np.log(x+epsilon)/n)"
   ]
  },
  {
   "cell_type": "code",
   "execution_count": null,
   "metadata": {},
   "outputs": [],
   "source": [
    "a = pd.Series(np.vectorize(trans)(test_results['score'].to_numpy(),min(test_results['score'][test_results['score']>0])*1e-50, 20))\n",
    "print(a.describe())\n",
    "a.hist(bins=50)"
   ]
  },
  {
   "cell_type": "code",
   "execution_count": null,
   "metadata": {},
   "outputs": [],
   "source": [
    "epsilon = min(test_results['score'][test_results['score']>0])*1e-50\n",
    "print(test_results['score'].apply(lambda x: np.log(x+epsilon)).describe())\n",
    "test_results['score'].apply(lambda x: np.log(x+epsilon)).hist(bins=50)"
   ]
  },
  {
   "cell_type": "code",
   "execution_count": null,
   "metadata": {},
   "outputs": [],
   "source": [
    "print(test_results['score'].apply(lambda x: logn(x,1000)/logn(1,1000)).describe())\n",
    "test_results['score'].apply(lambda x: logn(x,1000)/logn(1,1000)).hist(bins=50)"
   ]
  },
  {
   "cell_type": "code",
   "execution_count": null,
   "metadata": {},
   "outputs": [],
   "source": [
    "def logn(x,n):\n",
    "    for i in range(n):\n",
    "        x = np.log(x+1)\n",
    "    return x"
   ]
  },
  {
   "cell_type": "code",
   "execution_count": null,
   "metadata": {},
   "outputs": [],
   "source": [
    "count = fp.assign(year = fp['img_name'].apply(lambda x: x.split('/')[1][4:8])).groupby('year').count()[['img_name']].rename(columns={'img_name': 'count_fp'})\n",
    "mean = fp.assign(year = fp['img_name'].apply(lambda x: x.split('/')[1][4:8])).groupby('year').mean(numeric_only=True)\n",
    "_count = fp.query('score>0.999').assign(year = fp['img_name'].apply(lambda x: x.split('/')[1][4:8])).groupby('year').count()[['img_name']].rename(columns={'img_name': 'count_fp>0.99'})\n",
    "count = count.assign(mean_fp_score = mean['score'], count_fp99 = _count['count_fp>0.99'], ratio99 = _count['count_fp>0.99']/count['count_fp'])\n",
    "count"
   ]
  },
  {
   "cell_type": "code",
   "execution_count": null,
   "metadata": {},
   "outputs": [],
   "source": [
    "count2 = test_results.assign(year = test_results['img_name'].apply(lambda x: x.split('/')[1][4:8])).groupby('year').count()[['img_name']].rename(columns={'img_name': 'count_tot'})\n",
    "count2.merge(count, how='left', left_index=True, right_index=True)"
   ]
  },
  {
   "cell_type": "code",
   "execution_count": null,
   "metadata": {},
   "outputs": [],
   "source": [
    "results_video_test = results_df_video(test_results)"
   ]
  },
  {
   "cell_type": "code",
   "execution_count": null,
   "metadata": {},
   "outputs": [],
   "source": [
    "train_results = pd.read_csv('results_train_3.csv').rename(columns={'keyframe_id': 'img_name'})\n",
    "false_positive = train_results.query('predicted == 1').query(\"label == 0\").sort_values('score', ascending=False).reset_index(drop=True)\n",
    "false_positive['score'].describe()"
   ]
  },
  {
   "cell_type": "code",
   "execution_count": null,
   "metadata": {},
   "outputs": [],
   "source": [
    "train_results"
   ]
  },
  {
   "cell_type": "code",
   "execution_count": null,
   "metadata": {},
   "outputs": [],
   "source": [
    "false_negative = train_results.query('predicted == 0').query(\"label == 1\").sort_values('score', ascending=True).reset_index(drop=True)\n",
    "false_negative['score'].describe()"
   ]
  },
  {
   "cell_type": "code",
   "execution_count": null,
   "metadata": {},
   "outputs": [],
   "source": [
    "test_results = pd.read_csv('results_test_3bis.csv').rename(columns={'keyframe_id': 'img_name'})"
   ]
  },
  {
   "cell_type": "code",
   "execution_count": null,
   "metadata": {},
   "outputs": [],
   "source": [
    "false_negative = test_results.query('predicted == 0').query(\"label == 1\").sort_values('score', ascending=True).reset_index(drop=True)\n",
    "false_negative['score'].describe()"
   ]
  },
  {
   "cell_type": "code",
   "execution_count": null,
   "metadata": {},
   "outputs": [],
   "source": [
    "test_results = pd.read_csv('results_test_3.csv').rename(columns={'keyframe_id': 'img_name'})"
   ]
  },
  {
   "cell_type": "code",
   "execution_count": null,
   "metadata": {},
   "outputs": [],
   "source": [
    "false_negative = test_results.query('predicted == 0').query(\"label == 1\").sort_values('score', ascending=True).reset_index(drop=True)\n",
    "false_negative['score'].describe()"
   ]
  },
  {
   "cell_type": "code",
   "execution_count": null,
   "metadata": {},
   "outputs": [],
   "source": [
    "with open('../../train_metadata/dino_anonym_20_metadata.json') as f:\n",
    "    dino_metadata = json.load(f)"
   ]
  },
  {
   "cell_type": "code",
   "execution_count": null,
   "metadata": {},
   "outputs": [],
   "source": [
    "def plot_metadata(metadata):\n",
    "    print(f\"_________Model : {metadata['model_name']}_________\\n\")\n",
    "    print(f\"Info : {metadata['num_epochs']} epochs - {metadata['batch_size']} batch size - {metadata['learning_rate']} learning rate - {metadata['pretrained']} pretrained - Trained for {metadata['train_duration']/3600:.2f} hours \\n\")\n",
    "    plt.plot(metadata['train_loss'], label='train_loss')\n",
    "    plt.plot(metadata['test_loss'], label='val_loss')\n",
    "    plt.legend()\n",
    "    plt.title('Loss')\n",
    "    plt.xlabel('Epoch')\n",
    "    plt.ylabel('Loss')\n",
    "    plt.show()\n",
    "    plt.plot(metadata['test_accuracy'], label='test_accuracy')\n",
    "    plt.plot(metadata['test_precision'], label='test_precision')\n",
    "    plt.plot(metadata['test_recall'], label='test_recall')\n",
    "    plt.plot(metadata['test_f1'], label='test_f1')\n",
    "    plt.legend()\n",
    "    plt.title('Metrics')\n",
    "    plt.xlabel('Epoch')\n",
    "    plt.ylabel('Metrics')\n",
    "    plt.show()\n"
   ]
  },
  {
   "cell_type": "code",
   "execution_count": null,
   "metadata": {},
   "outputs": [],
   "source": [
    "plot_metadata(dino_metadata)"
   ]
  }
 ],
 "metadata": {
  "kernelspec": {
   "display_name": "face_detection",
   "language": "python",
   "name": "python3"
  },
  "language_info": {
   "codemirror_mode": {
    "name": "ipython",
    "version": 3
   },
   "file_extension": ".py",
   "mimetype": "text/x-python",
   "name": "python",
   "nbconvert_exporter": "python",
   "pygments_lexer": "ipython3",
   "version": "3.9.18"
  }
 },
 "nbformat": 4,
 "nbformat_minor": 2
}
