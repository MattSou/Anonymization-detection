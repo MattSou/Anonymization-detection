{
 "cells": [
  {
   "cell_type": "code",
   "execution_count": 1,
   "metadata": {},
   "outputs": [
    {
     "name": "stderr",
     "output_type": "stream",
     "text": [
      "/home/msouda/.pyenv/versions/3.9.18/envs/face_detection/lib/python3.9/site-packages/tqdm/auto.py:21: TqdmWarning: IProgress not found. Please update jupyter and ipywidgets. See https://ipywidgets.readthedocs.io/en/stable/user_install.html\n",
      "  from .autonotebook import tqdm as notebook_tqdm\n"
     ]
    }
   ],
   "source": [
    "import torch\n",
    "from torch import optim, nn\n",
    "import numpy as np\n",
    "from torchvision import transforms as T\n",
    "from tqdm import tqdm\n",
    "import os\n",
    "import argparse\n",
    "import yaml\n",
    "import json\n",
    "import numpy as np\n",
    "import cv2\n",
    "import matplotlib.pyplot as plt\n",
    "from scipy.signal import convolve2d\n",
    "import os\n",
    "from tqdm import tqdm\n",
    "from torch.utils.data import Dataset, DataLoader\n",
    "from PIL import Image\n",
    "import pandas as pd\n",
    "from dataset import MotionPSF, DefocusPSF, GaussianPSF, AnonymizePSF, CreatePatchDataset, load_image, generate_blurred_image"
   ]
  },
  {
   "cell_type": "code",
   "execution_count": 2,
   "metadata": {},
   "outputs": [
    {
     "name": "stderr",
     "output_type": "stream",
     "text": [
      "100%|██████████| 3/3 [00:00<00:00, 1850.70it/s]"
     ]
    },
    {
     "name": "stdout",
     "output_type": "stream",
     "text": [
      "['/home/msouda/Datasets/BSDS300/images/test/143090.jpg', '/home/msouda/Datasets/BSDS300/images/test/54082.jpg', '/home/msouda/Datasets/BSDS300/images/test/12084.jpg', '/home/msouda/Datasets/BSDS300/images/test/126007.jpg', '/home/msouda/Datasets/BSDS300/images/test/175032.jpg', '/home/msouda/Datasets/BSDS300/images/test/304074.jpg', '/home/msouda/Datasets/BSDS300/images/test/85048.jpg', '/home/msouda/Datasets/BSDS300/images/test/271035.jpg', '/home/msouda/Datasets/BSDS300/images/test/167062.jpg', '/home/msouda/Datasets/BSDS300/images/test/182053.jpg', '/home/msouda/Datasets/BSDS300/images/test/41033.jpg', '/home/msouda/Datasets/BSDS300/images/test/42012.jpg', '/home/msouda/Datasets/BSDS300/images/test/43074.jpg', '/home/msouda/Datasets/BSDS300/images/test/14037.jpg', '/home/msouda/Datasets/BSDS300/images/test/69015.jpg', '/home/msouda/Datasets/BSDS300/images/test/109053.jpg', '/home/msouda/Datasets/BSDS300/images/test/108082.jpg', '/home/msouda/Datasets/BSDS300/images/test/236037.jpg', '/home/msouda/Datasets/BSDS300/images/test/105025.jpg', '/home/msouda/Datasets/BSDS300/images/test/260058.jpg', '/home/msouda/Datasets/BSDS300/images/test/55073.jpg', '/home/msouda/Datasets/BSDS300/images/test/208001.jpg', '/home/msouda/Datasets/BSDS300/images/test/65033.jpg', '/home/msouda/Datasets/BSDS300/images/test/123074.jpg', '/home/msouda/Datasets/BSDS300/images/test/45096.jpg', '/home/msouda/Datasets/BSDS300/images/test/197017.jpg', '/home/msouda/Datasets/BSDS300/images/test/361010.jpg', '/home/msouda/Datasets/BSDS300/images/test/86068.jpg', '/home/msouda/Datasets/BSDS300/images/test/157055.jpg', '/home/msouda/Datasets/BSDS300/images/test/295087.jpg', '/home/msouda/Datasets/BSDS300/images/test/130026.jpg', '/home/msouda/Datasets/BSDS300/images/test/19021.jpg', '/home/msouda/Datasets/BSDS300/images/test/291000.jpg', '/home/msouda/Datasets/BSDS300/images/test/302008.jpg', '/home/msouda/Datasets/BSDS300/images/test/38082.jpg', '/home/msouda/Datasets/BSDS300/images/test/285079.jpg', '/home/msouda/Datasets/BSDS300/images/test/33039.jpg', '/home/msouda/Datasets/BSDS300/images/test/41069.jpg', '/home/msouda/Datasets/BSDS300/images/test/62096.jpg', '/home/msouda/Datasets/BSDS300/images/test/351093.jpg', '/home/msouda/Datasets/BSDS300/images/test/8023.jpg', '/home/msouda/Datasets/BSDS300/images/test/241004.jpg', '/home/msouda/Datasets/BSDS300/images/test/89072.jpg', '/home/msouda/Datasets/BSDS300/images/test/148026.jpg', '/home/msouda/Datasets/BSDS300/images/test/220075.jpg', '/home/msouda/Datasets/BSDS300/images/test/69040.jpg', '/home/msouda/Datasets/BSDS300/images/test/3096.jpg', '/home/msouda/Datasets/BSDS300/images/test/106024.jpg', '/home/msouda/Datasets/BSDS300/images/test/76053.jpg', '/home/msouda/Datasets/BSDS300/images/test/78004.jpg', '/home/msouda/Datasets/BSDS300/images/test/216081.jpg', '/home/msouda/Datasets/BSDS300/images/test/24077.jpg', '/home/msouda/Datasets/BSDS300/images/test/196073.jpg', '/home/msouda/Datasets/BSDS300/images/test/86000.jpg', '/home/msouda/Datasets/BSDS300/images/test/223061.jpg', '/home/msouda/Datasets/BSDS300/images/test/253027.jpg', '/home/msouda/Datasets/BSDS300/images/test/210088.jpg', '/home/msouda/Datasets/BSDS300/images/test/37073.jpg', '/home/msouda/Datasets/BSDS300/images/test/167083.jpg', '/home/msouda/Datasets/BSDS300/images/test/385039.jpg', '/home/msouda/Datasets/BSDS300/images/test/147091.jpg', '/home/msouda/Datasets/BSDS300/images/test/42049.jpg', '/home/msouda/Datasets/BSDS300/images/test/175043.jpg', '/home/msouda/Datasets/BSDS300/images/test/376043.jpg', '/home/msouda/Datasets/BSDS300/images/test/21077.jpg', '/home/msouda/Datasets/BSDS300/images/test/227092.jpg', '/home/msouda/Datasets/BSDS300/images/test/58060.jpg', '/home/msouda/Datasets/BSDS300/images/test/101085.jpg', '/home/msouda/Datasets/BSDS300/images/test/219090.jpg', '/home/msouda/Datasets/BSDS300/images/test/66053.jpg', '/home/msouda/Datasets/BSDS300/images/test/296059.jpg', '/home/msouda/Datasets/BSDS300/images/test/159008.jpg', '/home/msouda/Datasets/BSDS300/images/test/148089.jpg', '/home/msouda/Datasets/BSDS300/images/test/296007.jpg', '/home/msouda/Datasets/BSDS300/images/test/69020.jpg', '/home/msouda/Datasets/BSDS300/images/test/163085.jpg', '/home/msouda/Datasets/BSDS300/images/test/304034.jpg', '/home/msouda/Datasets/BSDS300/images/test/87046.jpg', '/home/msouda/Datasets/BSDS300/images/test/38092.jpg', '/home/msouda/Datasets/BSDS300/images/test/16077.jpg', '/home/msouda/Datasets/BSDS300/images/test/108070.jpg', '/home/msouda/Datasets/BSDS300/images/test/101087.jpg', '/home/msouda/Datasets/BSDS300/images/test/299086.jpg', '/home/msouda/Datasets/BSDS300/images/test/229036.jpg', '/home/msouda/Datasets/BSDS300/images/test/160068.jpg', '/home/msouda/Datasets/BSDS300/images/test/241048.jpg', '/home/msouda/Datasets/BSDS300/images/test/253055.jpg', '/home/msouda/Datasets/BSDS300/images/test/97033.jpg', '/home/msouda/Datasets/BSDS300/images/test/170057.jpg', '/home/msouda/Datasets/BSDS300/images/test/119082.jpg', '/home/msouda/Datasets/BSDS300/images/test/156065.jpg', '/home/msouda/Datasets/BSDS300/images/test/86016.jpg', '/home/msouda/Datasets/BSDS300/images/test/300091.jpg', '/home/msouda/Datasets/BSDS300/images/test/103070.jpg', '/home/msouda/Datasets/BSDS300/images/test/108005.jpg', '/home/msouda/Datasets/BSDS300/images/test/145086.jpg', '/home/msouda/Datasets/BSDS300/images/test/306005.jpg', '/home/msouda/Datasets/BSDS300/images/test/102061.jpg', '/home/msouda/Datasets/BSDS300/images/test/189080.jpg', '/home/msouda/Datasets/BSDS300/images/test/134035.jpg', '/home/msouda/Datasets/BSDS300/images/train/87065.jpg', '/home/msouda/Datasets/BSDS300/images/train/254054.jpg', '/home/msouda/Datasets/BSDS300/images/train/35010.jpg', '/home/msouda/Datasets/BSDS300/images/train/176019.jpg', '/home/msouda/Datasets/BSDS300/images/train/293029.jpg', '/home/msouda/Datasets/BSDS300/images/train/231015.jpg', '/home/msouda/Datasets/BSDS300/images/train/124084.jpg', '/home/msouda/Datasets/BSDS300/images/train/76002.jpg', '/home/msouda/Datasets/BSDS300/images/train/153093.jpg', '/home/msouda/Datasets/BSDS300/images/train/35008.jpg', '/home/msouda/Datasets/BSDS300/images/train/310007.jpg', '/home/msouda/Datasets/BSDS300/images/train/22013.jpg', '/home/msouda/Datasets/BSDS300/images/train/309004.jpg', '/home/msouda/Datasets/BSDS300/images/train/216053.jpg', '/home/msouda/Datasets/BSDS300/images/train/285036.jpg', '/home/msouda/Datasets/BSDS300/images/train/376001.jpg', '/home/msouda/Datasets/BSDS300/images/train/35070.jpg', '/home/msouda/Datasets/BSDS300/images/train/156079.jpg', '/home/msouda/Datasets/BSDS300/images/train/65019.jpg', '/home/msouda/Datasets/BSDS300/images/train/8143.jpg', '/home/msouda/Datasets/BSDS300/images/train/388016.jpg', '/home/msouda/Datasets/BSDS300/images/train/277095.jpg', '/home/msouda/Datasets/BSDS300/images/train/43070.jpg', '/home/msouda/Datasets/BSDS300/images/train/159091.jpg', '/home/msouda/Datasets/BSDS300/images/train/225017.jpg', '/home/msouda/Datasets/BSDS300/images/train/54005.jpg', '/home/msouda/Datasets/BSDS300/images/train/292066.jpg', '/home/msouda/Datasets/BSDS300/images/train/113016.jpg', '/home/msouda/Datasets/BSDS300/images/train/94079.jpg', '/home/msouda/Datasets/BSDS300/images/train/46076.jpg', '/home/msouda/Datasets/BSDS300/images/train/12074.jpg', '/home/msouda/Datasets/BSDS300/images/train/317080.jpg', '/home/msouda/Datasets/BSDS300/images/train/20008.jpg', '/home/msouda/Datasets/BSDS300/images/train/196015.jpg', '/home/msouda/Datasets/BSDS300/images/train/66075.jpg', '/home/msouda/Datasets/BSDS300/images/train/28096.jpg', '/home/msouda/Datasets/BSDS300/images/train/181091.jpg', '/home/msouda/Datasets/BSDS300/images/train/385028.jpg', '/home/msouda/Datasets/BSDS300/images/train/113009.jpg', '/home/msouda/Datasets/BSDS300/images/train/188005.jpg', '/home/msouda/Datasets/BSDS300/images/train/12003.jpg', '/home/msouda/Datasets/BSDS300/images/train/163014.jpg', '/home/msouda/Datasets/BSDS300/images/train/100098.jpg', '/home/msouda/Datasets/BSDS300/images/train/170054.jpg', '/home/msouda/Datasets/BSDS300/images/train/157036.jpg', '/home/msouda/Datasets/BSDS300/images/train/138032.jpg', '/home/msouda/Datasets/BSDS300/images/train/97017.jpg', '/home/msouda/Datasets/BSDS300/images/train/61060.jpg', '/home/msouda/Datasets/BSDS300/images/train/368016.jpg', '/home/msouda/Datasets/BSDS300/images/train/323016.jpg', '/home/msouda/Datasets/BSDS300/images/train/242078.jpg', '/home/msouda/Datasets/BSDS300/images/train/22090.jpg', '/home/msouda/Datasets/BSDS300/images/train/245051.jpg', '/home/msouda/Datasets/BSDS300/images/train/105019.jpg', '/home/msouda/Datasets/BSDS300/images/train/368078.jpg', '/home/msouda/Datasets/BSDS300/images/train/65132.jpg', '/home/msouda/Datasets/BSDS300/images/train/33066.jpg', '/home/msouda/Datasets/BSDS300/images/train/118035.jpg', '/home/msouda/Datasets/BSDS300/images/train/173036.jpg', '/home/msouda/Datasets/BSDS300/images/train/24004.jpg', '/home/msouda/Datasets/BSDS300/images/train/227040.jpg', '/home/msouda/Datasets/BSDS300/images/train/249061.jpg', '/home/msouda/Datasets/BSDS300/images/train/314016.jpg', '/home/msouda/Datasets/BSDS300/images/train/249087.jpg', '/home/msouda/Datasets/BSDS300/images/train/135037.jpg', '/home/msouda/Datasets/BSDS300/images/train/198054.jpg', '/home/msouda/Datasets/BSDS300/images/train/187039.jpg', '/home/msouda/Datasets/BSDS300/images/train/43083.jpg', '/home/msouda/Datasets/BSDS300/images/train/61086.jpg', '/home/msouda/Datasets/BSDS300/images/train/103041.jpg', '/home/msouda/Datasets/BSDS300/images/train/187071.jpg', '/home/msouda/Datasets/BSDS300/images/train/41025.jpg', '/home/msouda/Datasets/BSDS300/images/train/95006.jpg', '/home/msouda/Datasets/BSDS300/images/train/169012.jpg', '/home/msouda/Datasets/BSDS300/images/train/189003.jpg', '/home/msouda/Datasets/BSDS300/images/train/247085.jpg', '/home/msouda/Datasets/BSDS300/images/train/153077.jpg', '/home/msouda/Datasets/BSDS300/images/train/108041.jpg', '/home/msouda/Datasets/BSDS300/images/train/183055.jpg', '/home/msouda/Datasets/BSDS300/images/train/302003.jpg', '/home/msouda/Datasets/BSDS300/images/train/274007.jpg', '/home/msouda/Datasets/BSDS300/images/train/23084.jpg', '/home/msouda/Datasets/BSDS300/images/train/8049.jpg', '/home/msouda/Datasets/BSDS300/images/train/24063.jpg', '/home/msouda/Datasets/BSDS300/images/train/178054.jpg', '/home/msouda/Datasets/BSDS300/images/train/268002.jpg', '/home/msouda/Datasets/BSDS300/images/train/27059.jpg', '/home/msouda/Datasets/BSDS300/images/train/155060.jpg', '/home/msouda/Datasets/BSDS300/images/train/78019.jpg', '/home/msouda/Datasets/BSDS300/images/train/25098.jpg', '/home/msouda/Datasets/BSDS300/images/train/189011.jpg', '/home/msouda/Datasets/BSDS300/images/train/35058.jpg', '/home/msouda/Datasets/BSDS300/images/train/15004.jpg', '/home/msouda/Datasets/BSDS300/images/train/365073.jpg', '/home/msouda/Datasets/BSDS300/images/train/130034.jpg', '/home/msouda/Datasets/BSDS300/images/train/45077.jpg', '/home/msouda/Datasets/BSDS300/images/train/145014.jpg', '/home/msouda/Datasets/BSDS300/images/train/28075.jpg', '/home/msouda/Datasets/BSDS300/images/train/65074.jpg', '/home/msouda/Datasets/BSDS300/images/train/159029.jpg', '/home/msouda/Datasets/BSDS300/images/train/48055.jpg', '/home/msouda/Datasets/BSDS300/images/train/2092.jpg', '/home/msouda/Datasets/BSDS300/images/train/134052.jpg', '/home/msouda/Datasets/BSDS300/images/train/90076.jpg', '/home/msouda/Datasets/BSDS300/images/train/16052.jpg', '/home/msouda/Datasets/BSDS300/images/train/207056.jpg', '/home/msouda/Datasets/BSDS300/images/train/246053.jpg', '/home/msouda/Datasets/BSDS300/images/train/311068.jpg', '/home/msouda/Datasets/BSDS300/images/train/374067.jpg', '/home/msouda/Datasets/BSDS300/images/train/145053.jpg', '/home/msouda/Datasets/BSDS300/images/train/374020.jpg', '/home/msouda/Datasets/BSDS300/images/train/326038.jpg', '/home/msouda/Datasets/BSDS300/images/train/198004.jpg', '/home/msouda/Datasets/BSDS300/images/train/216041.jpg', '/home/msouda/Datasets/BSDS300/images/train/187083.jpg', '/home/msouda/Datasets/BSDS300/images/train/172032.jpg', '/home/msouda/Datasets/BSDS300/images/train/176039.jpg', '/home/msouda/Datasets/BSDS300/images/train/100075.jpg', '/home/msouda/Datasets/BSDS300/images/train/67079.jpg', '/home/msouda/Datasets/BSDS300/images/train/23080.jpg', '/home/msouda/Datasets/BSDS300/images/train/126039.jpg', '/home/msouda/Datasets/BSDS300/images/train/23025.jpg', '/home/msouda/Datasets/BSDS300/images/train/163062.jpg', '/home/msouda/Datasets/BSDS300/images/train/66039.jpg', '/home/msouda/Datasets/BSDS300/images/train/106025.jpg', '/home/msouda/Datasets/BSDS300/images/train/353013.jpg', '/home/msouda/Datasets/BSDS300/images/train/239096.jpg', '/home/msouda/Datasets/BSDS300/images/train/232038.jpg', '/home/msouda/Datasets/BSDS300/images/train/301007.jpg', '/home/msouda/Datasets/BSDS300/images/train/254033.jpg', '/home/msouda/Datasets/BSDS300/images/train/260081.jpg', '/home/msouda/Datasets/BSDS300/images/train/227046.jpg', '/home/msouda/Datasets/BSDS300/images/train/65010.jpg', '/home/msouda/Datasets/BSDS300/images/train/15088.jpg', '/home/msouda/Datasets/BSDS300/images/train/188063.jpg', '/home/msouda/Datasets/BSDS300/images/train/104022.jpg', '/home/msouda/Datasets/BSDS300/images/train/365025.jpg', '/home/msouda/Datasets/BSDS300/images/train/161062.jpg', '/home/msouda/Datasets/BSDS300/images/train/236017.jpg', '/home/msouda/Datasets/BSDS300/images/train/140055.jpg', '/home/msouda/Datasets/BSDS300/images/train/100080.jpg', '/home/msouda/Datasets/BSDS300/images/train/181079.jpg', '/home/msouda/Datasets/BSDS300/images/train/271031.jpg', '/home/msouda/Datasets/BSDS300/images/train/22093.jpg', '/home/msouda/Datasets/BSDS300/images/train/147021.jpg', '/home/msouda/Datasets/BSDS300/images/train/151087.jpg', '/home/msouda/Datasets/BSDS300/images/train/118020.jpg', '/home/msouda/Datasets/BSDS300/images/train/271008.jpg', '/home/msouda/Datasets/BSDS300/images/train/166081.jpg', '/home/msouda/Datasets/BSDS300/images/train/42044.jpg', '/home/msouda/Datasets/BSDS300/images/train/108073.jpg', '/home/msouda/Datasets/BSDS300/images/train/68077.jpg', '/home/msouda/Datasets/BSDS300/images/train/106020.jpg', '/home/msouda/Datasets/BSDS300/images/train/246016.jpg', '/home/msouda/Datasets/BSDS300/images/train/239007.jpg', '/home/msouda/Datasets/BSDS300/images/train/164074.jpg', '/home/msouda/Datasets/BSDS300/images/train/147062.jpg', '/home/msouda/Datasets/BSDS300/images/train/181018.jpg', '/home/msouda/Datasets/BSDS300/images/train/105053.jpg', '/home/msouda/Datasets/BSDS300/images/train/209070.jpg', '/home/msouda/Datasets/BSDS300/images/train/159045.jpg', '/home/msouda/Datasets/BSDS300/images/train/112082.jpg', '/home/msouda/Datasets/BSDS300/images/train/117054.jpg', '/home/msouda/Datasets/BSDS300/images/train/55075.jpg', '/home/msouda/Datasets/BSDS300/images/train/122048.jpg', '/home/msouda/Datasets/BSDS300/images/train/299091.jpg', '/home/msouda/Datasets/BSDS300/images/train/144067.jpg', '/home/msouda/Datasets/BSDS300/images/train/187029.jpg', '/home/msouda/Datasets/BSDS300/images/train/59078.jpg', '/home/msouda/Datasets/BSDS300/images/train/135069.jpg', '/home/msouda/Datasets/BSDS300/images/train/41004.jpg', '/home/msouda/Datasets/BSDS300/images/train/253036.jpg', '/home/msouda/Datasets/BSDS300/images/train/56028.jpg', '/home/msouda/Datasets/BSDS300/images/train/26031.jpg', '/home/msouda/Datasets/BSDS300/images/train/187003.jpg', '/home/msouda/Datasets/BSDS300/images/train/71046.jpg', '/home/msouda/Datasets/BSDS300/images/train/311081.jpg', '/home/msouda/Datasets/BSDS300/images/train/140075.jpg', '/home/msouda/Datasets/BSDS300/images/train/370036.jpg', '/home/msouda/Datasets/BSDS300/images/train/198023.jpg', '/home/msouda/Datasets/BSDS300/images/train/109034.jpg', '/home/msouda/Datasets/BSDS300/images/train/60079.jpg', '/home/msouda/Datasets/BSDS300/images/train/92059.jpg', '/home/msouda/Datasets/BSDS300/images/train/183087.jpg', '/home/msouda/Datasets/BSDS300/images/train/372047.jpg', '/home/msouda/Datasets/BSDS300/images/train/176035.jpg', '/home/msouda/Datasets/BSDS300/images/train/35091.jpg', '/home/msouda/Datasets/BSDS300/images/train/188091.jpg', '/home/msouda/Datasets/BSDS300/images/train/376020.jpg', '/home/msouda/Datasets/BSDS300/images/train/238011.jpg', '/home/msouda/Datasets/BSDS300/images/train/202012.jpg', '/home/msouda/Datasets/BSDS300/images/train/134008.jpg', '/home/msouda/Datasets/BSDS300/images/train/138078.jpg', '/home/msouda/Datasets/BSDS300/images/train/286092.jpg', '/home/msouda/Datasets/BSDS300/images/train/55067.jpg', '/home/msouda/Datasets/BSDS300/images/train/80099.jpg', '/home/msouda/Datasets/BSDS300/images/train/361084.jpg', '/home/msouda/Datasets/BSDS300/images/train/42078.jpg', '/home/msouda/Datasets/BSDS300/images/train/216066.jpg', '/home/msouda/Datasets/BSDS300/images/train/113044.jpg']\n"
     ]
    },
    {
     "name": "stderr",
     "output_type": "stream",
     "text": [
      "\n"
     ]
    }
   ],
   "source": [
    "#A CHANGER, PROPRE A CHAQUE DATASET DE BASE\n",
    "dataset_root = '/home/msouda/Datasets'\n",
    "dataset_name = 'BSDS300/images'\n",
    "target_name = 'BSDS300_blurred'\n",
    "dataset_path = os.path.join(dataset_root, dataset_name)\n",
    "target_path = os.path.join(dataset_root, target_name)\n",
    "if not os.path.exists(target_path):\n",
    "    os.mkdir(target_path)\n",
    "classes = os.listdir(dataset_path)\n",
    "images = []\n",
    "target_images = []\n",
    "for c in tqdm(classes):\n",
    "    if len(c.split('.')) > 1:\n",
    "        continue\n",
    "    tmp_list = os.listdir(os.path.join(dataset_path, c))\n",
    "    images.extend([os.path.join(dataset_path, c, f) for f in tmp_list])\n",
    "    target_images.extend([os.path.join(target_path, c+'_'+f) for f in tmp_list])\n",
    "\n",
    "print(images)"
   ]
  },
  {
   "cell_type": "code",
   "execution_count": 3,
   "metadata": {},
   "outputs": [
    {
     "name": "stderr",
     "output_type": "stream",
     "text": [
      "100%|██████████| 300/300 [01:01<00:00,  4.89it/s]\n"
     ]
    }
   ],
   "source": [
    "#RANDOM choice of blur type\n",
    "blur_dict = {'clear': 0, 'motion': 1, 'defocus': 2, 'gaussian': 3, 'anonym':4}\n",
    "PSF_dict = {'clear': None, 'motion': MotionPSF, 'defocus': DefocusPSF, 'gaussian': GaussianPSF, 'anonym': AnonymizePSF}\n",
    "annotations = []\n",
    "for i in tqdm(range(len(images))):\n",
    "    blur_type = np.random.choice(list(blur_dict.keys()))\n",
    "    if not os.path.exists(images[i]):\n",
    "        print('Image not found :', images[i])\n",
    "        continue\n",
    "    if blur_type == 'clear':\n",
    "        cv2.imwrite(target_images[i], cv2.cvtColor(load_image(images[i]), cv2.COLOR_RGB2BGR))\n",
    "    else:\n",
    "        PSF = PSF_dict[blur_type]()\n",
    "        \n",
    "        blurred_image = generate_blurred_image(images[i], PSF)\n",
    "        if not target_images[i].endswith('.jpg'):\n",
    "            target_images[i] = target_images[i]+'.jpg'\n",
    "        cv2.imwrite(target_images[i], cv2.cvtColor(blurred_image, cv2.COLOR_RGB2BGR))\n",
    "    annotations.append((images[i], target_images[i], blur_dict[blur_type]))\n",
    "\n",
    "df = pd.DataFrame(annotations, columns=['image', 'blurred_image', 'blur_type'])\n",
    "path_to_df = os.path.join(dataset_path, 'BSDS300_blurred.csv')\n",
    "df[['blurred_image', 'blur_type']].to_csv(path_to_df, index=False, header=False)"
   ]
  },
  {
   "cell_type": "code",
   "execution_count": 4,
   "metadata": {},
   "outputs": [
    {
     "name": "stdout",
     "output_type": "stream",
     "text": [
      "7200\n"
     ]
    },
    {
     "name": "stderr",
     "output_type": "stream",
     "text": [
      "100%|██████████| 7200/7200 [00:04<00:00, 1651.27it/s]\n"
     ]
    }
   ],
   "source": [
    "transform = T.Compose([\n",
    "    T.RandomHorizontalFlip(),\n",
    "    T.RandomVerticalFlip(),\n",
    "    T.ToTensor(),\n",
    "])\n",
    "\n",
    "\n",
    "train_dataset = CreatePatchDataset(annotations_file=path_to_df, transform=transform)\n",
    "train_dataloader = DataLoader(train_dataset, batch_size=1, shuffle=False, num_workers = 4)\n",
    "\n",
    "patch_target = '/home/msouda/Datasets/SFA_patches_300/'\n",
    "if not os.path.exists(patch_target):\n",
    "    os.mkdir(patch_target)\n",
    "\n",
    "\n",
    "for img, path, label in tqdm(train_dataloader):\n",
    "    new_path = patch_target + path[0].split('/')[-1]\n",
    "\n",
    "    Image.fromarray((img[0].permute(1,2,0).numpy()*255).astype(np.uint8)).save(new_path)\n",
    "\n",
    "path = os.listdir(patch_target)\n",
    "o_path = pd.Series(path).apply(lambda x: '_'.join(x.split('_')[:-2])+'.jpg')\n",
    "ann = df[['blurred_image','blur_type']].rename(columns = {'blurred_image': 'img_path', 'blur_type': 'label'}).assign(img_path= lambda x: x['img_path'].apply(lambda y: y.split('/')[-1]))\n",
    "p_ann = pd.DataFrame({'img_path': o_path, 'p_path': path})\n",
    "\n",
    "annot = pd.merge(ann, p_ann, on='img_path').drop('img_path', axis=1)[['p_path', 'label']].assign(p_path=lambda x: patch_target + x.p_path)\n",
    "annot.to_csv(os.path.join(patch_target, 'annotations.csv'), header=None, index=None)"
   ]
  }
 ],
 "metadata": {
  "kernelspec": {
   "display_name": "face_detection",
   "language": "python",
   "name": "python3"
  },
  "language_info": {
   "codemirror_mode": {
    "name": "ipython",
    "version": 3
   },
   "file_extension": ".py",
   "mimetype": "text/x-python",
   "name": "python",
   "nbconvert_exporter": "python",
   "pygments_lexer": "ipython3",
   "version": "3.9.18"
  }
 },
 "nbformat": 4,
 "nbformat_minor": 2
}
